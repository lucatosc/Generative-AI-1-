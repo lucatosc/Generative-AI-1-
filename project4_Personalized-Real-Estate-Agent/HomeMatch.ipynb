{
 "cells": [
  {
   "cell_type": "markdown",
   "id": "a108af04",
   "metadata": {},
   "source": [
    "This is a starter notebook for the project, you'll have to import the libraries you'll need, you can find a list of the ones available in this workspace in the requirements.txt file in this workspace.\n"
   ]
  },
  {
   "cell_type": "code",
   "execution_count": 1,
   "id": "deb34d55",
   "metadata": {},
   "outputs": [],
   "source": [
    "from helper import (\n",
    "    generate_single_listing,\n",
    "    generate_listings,\n",
    "    read_from_file,\n",
    "    process_listings,\n",
    ")"
   ]
  },
  {
   "cell_type": "code",
   "execution_count": 2,
   "id": "ed03c2e1",
   "metadata": {},
   "outputs": [],
   "source": [
    "# print(generate_single_listing)"
   ]
  },
  {
   "cell_type": "code",
   "execution_count": 3,
   "id": "0d4a5e1f",
   "metadata": {},
   "outputs": [],
   "source": [
    "# response = generate_listings(10, \"listings.json\")\n",
    "# print(response)"
   ]
  },
  {
   "cell_type": "code",
   "execution_count": 4,
   "id": "698a7815",
   "metadata": {},
   "outputs": [
    {
     "name": "stdout",
     "output_type": "stream",
     "text": [
      "{'listings': [{'id': 1, 'neighborhood': 'Sunset Boulevard', 'price': 900000, 'bedrooms': 3, 'bathrooms': 2.5, 'size_sqft': 2500, 'description': \"This stunning 3 bedroom, 2.5 bathroom home boasts 2,500 square feet of living space and is perfect for entertaining! The spacious open floor plan includes a gourmet kitchen, formal dining room, and cozy living room complete with a fireplace. The backyard is a private retreat with a professionally landscaped yard, custom built-in BBQ, and a sparkling pool and spa. Don't miss your chance to live in this highly sought-after neighborhood on the coveted Sunset Boulevard.\", 'neighborhood_description': 'Sunset Boulevard is known for its picturesque tree-lined streets, top-rated schools, and numerous local shops and restaurants. This charming community offers the perfect blend of urban convenience and suburban tranquility. Come see why everyone is flocking to Sunset Boulevard!'}, {'id': 2, 'neighborhood': 'Riverwood', 'price': 1200000, 'bedrooms': 5, 'bathrooms': 4, 'size_sqft': 3800, 'description': 'Gorgeous riverfront home located in the highly desired area of Riverwood. This luxurious property offers breathtaking views of the river and plenty of space for entertaining with its spacious layout and expansive outdoor living areas. Welcome to your private paradise!', 'neighborhood_description': 'Nestled along the banks of the serene river, Riverwood is a peaceful and upscale community known for its beautiful homes, scenic views, and access to outdoor activities such as fishing, boating, and hiking.'}, {'id': 3, 'neighborhood': 'Baxter Creek', 'price': 950000, 'bedrooms': 4, 'bathrooms': 3, 'size_sqft': 3000, 'description': \"Immaculate and spacious 4 bedroom home in the sought after neighborhood of Baxter Creek. This home boasts natural light throughout and plenty of space for entertaining. The chef's kitchen features granite countertops and stainless steel appliances. Retreat to the gorgeous primary suite with a spa-like bathroom and walk-in closet. Enjoy the outdoors in the tranquil backyard with a deck and beautiful landscaping.\", 'neighborhood_description': 'Baxter Creek is a desirable community known for its top-rated schools and beautiful natural surroundings. Residents can easily access nearby parks and trails for hiking and biking. The neighborhood also offers a variety of dining and shopping options, making it the perfect place for families and individuals alike.'}, {'id': 4, 'neighborhood': 'Sunny Shores', 'price': 1200000, 'bedrooms': 4, 'bathrooms': 3, 'size_sqft': 3000, 'description': \"Experience luxury living in this stunning oceanfront retreat. Enter through the grand foyer and be greeted by breathtaking panoramic views of the ocean. This modern home boasts floor-to-ceiling windows, a chef's kitchen, and a spacious master suite. Entertain guests on the spacious deck or take a dip in the private pool. Sunny Shores offers a peaceful and picturesque community surrounded by white sandy beaches.\", 'neighborhood_description': 'Sunny Shores is a coastal paradise that offers the perfect balance of relaxation and adventure. Spend your days lounging on the beach or exploring the charming local shops and restaurants. With its warm climate and friendly community, Sunny Shores is the ultimate beach getaway.'}, {'id': 5, 'neighborhood': 'Oldfield', 'price': 650000, 'bedrooms': 3, 'bathrooms': 2, 'size_sqft': 2600, 'description': \"Don't miss this charming 3 bedroom, 2 bathroom home featuring...\", 'neighborhood_description': 'The charming neighborhood of Oldfield is filled with beautiful homes and tree-lined streets, perfect for taking a stroll or bike ride.'}, {'id': 6, 'neighborhood': 'Hickory Woods', 'price': 900000, 'bedrooms': 3, 'bathrooms': 2.5, 'size_sqft': 2200, 'description': 'This newly constructed home boasts modern barn esthetics with ecologically responsible materials...', 'neighborhood_description': 'Hickory Woods is a peaceful and spacious neighborhood with a strong focus on green living...'}, {'id': 7, 'neighborhood': 'Washington Heights', 'price': 550000, 'bedrooms': 3, 'bathrooms': 2, 'size_sqft': 1500, 'description': \"Introducing this charming home nestled in the heart of Washington Heights boasting 3 bedrooms, 2 bathrooms and a sprawling 1500 square feet of living space. Inside, you'll find that the home is filled with natural light and has been lovingly cared for. Enjoy the open concept layout perfect for entertaining and the serene corner lot providing plenty of outdoor space to relax. Being located in Washington Heights, you'll love being close to all the great restaurants, parks, and transportation options this popular neighborhood has to offer!\", 'neighborhood_description': \"Washington Heights is a historic and diverse neighborhood in Chicago known for its strong sense of community. It's home to many beautiful parks, local restaurants, and easy access to public transportation. With its charming brick homes and tree-lined streets, Washington Heights offers a peaceful suburban feel within the city.\"}, {'id': 8, 'neighborhood': 'Eastwood', 'price': 650000, 'bedrooms': 3, 'bathrooms': 2, 'size_sqft': 1700, 'description': \"Step into luxury with this stunning home featuring sleek modern design and high-end finishes throughout. Enjoy the ultimate in indoor-outdoor living with the expansive windows allowing natural light to flow in and give way to the lush backyard oasis. Perfect for entertaining with the gourmet chef's kitchen and open concept living space. This home is conveniently located in Eastwood, a vibrant neighborhood with a strong sense of community and endless dining and shopping options. Don't miss this opportunity to own a piece of paradise in Eastwood.\", 'neighborhood_description': 'Eastwood is a thriving neighborhood known for its diversity, energy, and prime location. Immerse yourself in the culture and take a stroll through the local farmers market or try a new restaurant serving up global cuisine. With top-rated schools and easy access to major highways, Eastwood offers the best of both worlds.'}, {'id': 9, 'neighborhood': 'Westfield', 'price': 900000, 'bedrooms': 3, 'bathrooms': 3, 'size_sqft': 2500, 'description': 'This gorgeous modern home boasts an open floor plan and ample natural lighting. The spacious backyard is perfect for entertaining and features a serene koi pond and lush garden. A true Westfield gem!', 'neighborhood_description': 'Westfield is known for its charming downtown area filled with local shops, restaurants, and cafes. The tight-knit community has a strong sense of pride and is a perfect place to raise a family.'}, {'id': 10, 'neighborhood': 'Cypress Creek', 'price': 400000, 'bedrooms': 3, 'bathrooms': 2.5, 'size_sqft': 1800, 'description': 'Step into luxury and nature combined in this stunning 3 bedroom, 2.5 bathroom home in the charming Cypress Creek neighborhood.', 'neighborhood_description': 'Experience the tranquility and beauty of living in Cypress Creek, a peaceful community surrounded by lush greenery and friendly neighbors. This neighborhood offers easy access to the city while providing a serene escape from the hustle and bustle of everyday life.'}]}\n"
     ]
    }
   ],
   "source": [
    "listings_map = read_from_file(\"listings.json\")\n",
    "print(listings_map)"
   ]
  },
  {
   "cell_type": "code",
   "execution_count": 5,
   "id": "34fd3084",
   "metadata": {},
   "outputs": [],
   "source": [
    "process_listings(listings_map)"
   ]
  },
  {
   "cell_type": "markdown",
   "id": "d8ac3e38",
   "metadata": {},
   "source": []
  },
  {
   "cell_type": "code",
   "execution_count": 6,
   "id": "9d3357a5",
   "metadata": {},
   "outputs": [
    {
     "name": "stdout",
     "output_type": "stream",
     "text": [
      "Running on local URL:  http://127.0.0.1:7860\n",
      "\n",
      "To create a public link, set `share=True` in `launch()`.\n"
     ]
    },
    {
     "data": {
      "text/html": [
       "<div><iframe src=\"http://127.0.0.1:7860/\" width=\"100%\" height=\"500\" allow=\"autoplay; camera; microphone; clipboard-read; clipboard-write;\" frameborder=\"0\" allowfullscreen></iframe></div>"
      ],
      "text/plain": [
       "<IPython.core.display.HTML object>"
      ]
     },
     "metadata": {},
     "output_type": "display_data"
    },
    {
     "name": "stdout",
     "output_type": "stream",
     "text": [
      "Keyboard interruption in main thread... closing server.\n"
     ]
    }
   ],
   "source": [
    "%run app.py"
   ]
  },
  {
   "cell_type": "code",
   "execution_count": null,
   "id": "28e2e74b",
   "metadata": {},
   "outputs": [],
   "source": []
  }
 ],
 "metadata": {
  "kernelspec": {
   "display_name": "Python 3 (ipykernel)",
   "language": "python",
   "name": "python3"
  },
  "language_info": {
   "codemirror_mode": {
    "name": "ipython",
    "version": 3
   },
   "file_extension": ".py",
   "mimetype": "text/x-python",
   "name": "python",
   "nbconvert_exporter": "python",
   "pygments_lexer": "ipython3",
   "version": "3.11.7"
  }
 },
 "nbformat": 4,
 "nbformat_minor": 5
}
