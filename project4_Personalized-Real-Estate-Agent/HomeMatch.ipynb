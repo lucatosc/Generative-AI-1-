{
 "cells": [
  {
   "cell_type": "markdown",
   "id": "a108af04",
   "metadata": {},
   "source": [
    "This is a starter notebook for the project, you'll have to import the libraries you'll need, you can find a list of the ones available in this workspace in the requirements.txt file in this workspace.\n"
   ]
  },
  {
   "cell_type": "code",
   "execution_count": 1,
   "id": "deb34d55",
   "metadata": {},
   "outputs": [],
   "source": [
    "from helper import generate_listings, read_from_file, process_listings"
   ]
  },
  {
   "cell_type": "code",
   "execution_count": 2,
   "id": "0d4a5e1f",
   "metadata": {},
   "outputs": [],
   "source": [
    "# response = generate_listings(10, \"listings.json\")\n",
    "# print(response)"
   ]
  },
  {
   "cell_type": "code",
   "execution_count": 3,
   "id": "07f76e9a",
   "metadata": {},
   "outputs": [
    {
     "name": "stdout",
     "output_type": "stream",
     "text": [
      "{'listings': [{'id': 1, 'neighborhood': 'Green Oaks', 'price': 950000, 'bedrooms': 3, 'bathrooms': 3, 'size_sqft': 2500, 'description': 'Escape to this luxurious oasis in the heart of Green Oaks. This stunning 3-bedroom, 3-bathroom home offers unparalleled comfort and style. Featuring high-end finishes and state-of-the-art appliances, this home is perfect for hosting guests or simply relaxing after a long day. Enjoy the spacious backyard with a private pool and stunning views of the surrounding mountains. With access to top-rated schools and nearby amenities, this Green Oaks gem is the perfect blend of convenience and luxury.', 'neighborhood description': \"Experience the best of Green Oaks living in this beautiful family-friendly neighborhood. Enjoy fresh produce from the local farmer's market, explore the nearby parks and trails, and savor coffee at the charming cafes. With convenient access to public transportation and a strong community spirit, Green Oaks truly has something for everyone.\"}, {'id': 2, 'neighborhood': 'Downtown Loft District', 'price': 1200000, 'bedrooms': 4, 'bathrooms': 3, 'size_sqft': 3000, 'description': 'Discover modern luxury in the heart of the Downtown Loft District. This stunning 4-bedroom, 3-bathroom loft boasts high-end finishes and expansive spaces. The sleek kitchen features stainless steel appliances and quartz countertops, perfect for the aspiring chef. With floor-to-ceiling windows, natural light floods the open-concept living and dining area, showcasing the contemporary design and chic accents. Unwind in the spacious master suite, complete with a spa-like en suite bathroom and walk-in closet. Live, work, and play surrounded by the vibrant energy of Downtown in this exceptional loft.', 'neighborhood description': 'Experience city living at its finest in the Downtown Loft District. Walk to nearby restaurants, entertainment venues, and galleries, or hop on the nearby public transportation for easy access to all the city has to offer. With a bustling energy and diverse community, Downtown is the ideal location for those seeking a vibrant lifestyle.'}, {'id': 3, 'neighborhood': 'Westlake Hills', 'price': 1200000, 'bedrooms': 4, 'bathrooms': 3.5, 'size_sqft': 3500, 'description': 'Escape to the serene beauty of Westlake Hills in this luxurious 4-bedroom, 3.5-bathroom home. The spacious layout provides plenty of room for relaxation, with high-end finishes and stunning views of the surrounding natural landscape. Enjoy the gourmet kitchen, perfect for entertaining guests or preparing a quiet dinner at home. The oversized master bedroom features a spa-inspired en-suite bathroom and walk-in closet. Take a dip in the pool or unwind in the hot tub while taking in the peaceful surroundings.', 'neighborhood description': 'Westlake Hills is a highly sought-after neighborhood known for its picturesque scenery and upscale homes. Residents have access to top-rated schools, boutique shops, and gourmet restaurants within minutes of their doorstep. Enjoy the great outdoors with nearby nature trails and parks, or take a short drive to downtown for a night out on the town. With its prime location and luxurious amenities, Westlake Hills is the perfect place to call home.'}, {'id': 4, 'neighborhood': 'Wildflower Village', 'price': 1200000, 'bedrooms': 4, 'bathrooms': 3, 'size_sqft': 3000, 'description': 'Welcome to this stunning luxury home nestled in the heart of Wildflower Village. This spacious 4-bedroom, 3-bathroom home boasts high-end finishes and expansive windows that provide an abundance of natural light. The open-concept kitchen and living area are perfect for entertaining, and the backyard features a beautiful pool and patio area. Enjoy breathtaking views of the surrounding wildflowers from your backyard oasis.', 'neighborhood description': 'Wildflower Village is a peaceful and picturesque community filled with natural beauty. Take a walk through the stunning wildflower fields or relax by the tranquil community pond. With convenient access to upscale shopping and dining, as well as top-rated schools, Wildflower Village is the perfect place to call home.'}, {'id': 5, 'neighborhood': 'Lakeview', 'price': 950000, 'bedrooms': 4, 'bathrooms': 3, 'size_sqft': 3500, 'description': 'Welcome to this spacious Lakeview home with modern finishes and plenty of natural light. This 4-bedroom, 3-bathroom oasis offers an open floor plan with hardwood floors and a gourmet kitchen featuring stainless steel appliances and granite countertops. The luxurious master suite includes a spa-like bathroom and walk-in closet. Enjoy outdoor living on the expansive deck overlooking the serene backyard. Experience the best of city living in this vibrant Lakeview neighborhood.', 'neighborhood description': \"Lakeview is one of Chicago's most popular neighborhoods, known for its trendy restaurants, lively bars, and boutique shops. Enjoy a scenic walk or bike ride along the nearby lakefront trail, or take a leisurely stroll through the picturesque Southport Corridor. With convenient access to public transportation, commuting to the rest of the city is a breeze.\"}, {'id': 6, 'neighborhood': 'Westlake Hills', 'price': 950000, 'bedrooms': 4, 'bathrooms': 3, 'size_sqft': 3000, 'description': 'Welcome to this luxurious, modern home nestled in the prestigious Westlake Hills neighborhood. This beautiful 4-bedroom, 3-bathroom home offers an open-concept living space perfect for entertaining. The stunning kitchen features high-end appliances and sleek finishes. Retreat to the spacious master suite with a luxurious en-suite bathroom and walk-in closet. Enjoy the peaceful backyard with a covered patio, perfect for outdoor gatherings. With access to top-rated schools and just minutes from downtown, this Westlake Hills home has it all.', 'neighborhood description': 'Westlake Hills is an upscale, family-friendly neighborhood with highly-rated schools, beautiful parks, and easy access to downtown amenities. Enjoy the breathtaking views of the surrounding hill country and take a hike on the nearby Barton Creek Greenbelt. Indulge in the local dining options, from top-rated restaurants to cozy cafes. With a close-knit community and all the luxuries of modern living, Westlake Hills is the ideal location for your dream home.'}, {'id': 7, 'neighborhood': 'Downtown', 'price': 1200000, 'bedrooms': 4, 'bathrooms': 3, 'size_sqft': 3000, 'description': 'Experience luxurious living in the heart of Downtown in this spacious 4-bedroom, 3-bathroom home. Modern fixtures and high-end finishes create an elevated ambiance throughout the grand living spaces. Cook and dine in style in the open-concept kitchen and dining area, featuring top-of-the-line appliances and a large island. The luxurious master suite boasts a walk-in closet, spa-like ensuite with a soaking tub, and access to a private balcony with stunning city views. Enjoy convenient city living with easy access to shopping, dining, and entertainment.', 'neighborhood description': 'Downtown is a vibrant and bustling neighborhood with a mix of residential and commercial spaces. Enjoy a diverse selection of locally-owned businesses and restaurants, as well as popular retail stores. The bustling downtown area offers easy access to public transportation and major highways for a seamless commute. Embrace city living at its finest in Downtown.'}, {'id': 8, 'neighborhood': 'Westside', 'price': 1200000, 'bedrooms': 4, 'bathrooms': 3, 'size_sqft': 3000, 'description': 'Welcome to this stunning modern home in the sought-after Westside neighborhood. This 4-bedroom, 3-bathroom gem features high-end finishes and luxurious amenities. The open-concept living and dining area offer seamless transitions to the outdoor entertainment space, complete with a pool and outdoor kitchen. The spacious master suite is the perfect retreat with a spa-like bathroom and walk-in closet. The Westside neighborhood is known for its gourmet restaurants, trendy shops, and easy access to outdoor activities such as hiking and water sports.', 'neighborhood description': 'Westside is a vibrant and upscale community, known for its diverse population and buzzing nightlife. Enjoy a variety of cuisines from award-winning restaurants, shop at trendy boutiques, or take a short drive to the nearby mountains or beach. With top-rated schools and a close-knit community, Westside is the perfect place to call home.'}, {'id': 9, 'neighborhood': 'Midtown', 'price': 850000, 'bedrooms': 3, 'bathrooms': 3, 'size_sqft': 2400, 'description': \"Welcome to your urban sanctuary in the heart of Midtown. This newly renovated 3-bedroom, 3-bathroom home features modern design and luxurious finishes. The spacious and bright living area is perfect for entertaining, with a chef's kitchen and stunning city views. The master suite boasts a spa-like bathroom and walk-in closet. Enjoy the convenience of a private garage and the outdoor oasis of the rooftop terrace. Experience all that Midtown has to offer with its bustling art scene, vibrant nightlife, and diverse dining options.\", 'neighborhood description': 'Midtown is a dynamic and lively neighborhood known for its thriving arts community and top-notch restaurants. With easy access to public transportation and walkable streets, explore all that Midtown has to offer, from the bustling art galleries to the pulsing music venues. Grab coffee at the hip local cafe and browse the boutiques in the trendy fashion district. Live the urban lifestyle in Midtown.'}, {'id': 10, 'neighborhood': 'Dolores Heights', 'price': 1200000, 'bedrooms': 4, 'bathrooms': 2, 'size_sqft': 3000, 'description': \"Welcome to this stunning 4-bedroom, 2-bathroom home in the highly desirable neighborhood of Dolores Heights. This spacious home features an open floor plan, perfect for entertaining. The kitchen is equipped with high-end appliances and custom cabinetry. Enjoy the view from the large windows in the living room, highlighting the gorgeous hardwood floors and modern finishes. Step outside to the backyard oasis, complete with a barbecue area and hot tub - the perfect spot to relax after a long day. Don't miss your chance to own a piece of luxury in coveted Dolores Heights.\", 'neighborhood description': 'Dolores Heights is a vibrant and affluent neighborhood with an eclectic mix of restaurants, cafes, and boutiques. Enjoy a picnic in the nearby Dolores Park or take a hike in the nearby Twin Peaks. With convenient public transportation options and easy access to freeways, commuting to downtown or Silicon Valley is a breeze.'}]}\n"
     ]
    }
   ],
   "source": [
    "listings_map = read_from_file(\"listings.json\")\n",
    "print(listings_map)"
   ]
  },
  {
   "cell_type": "code",
   "execution_count": 4,
   "id": "34fd3084",
   "metadata": {},
   "outputs": [
    {
     "name": "stdout",
     "output_type": "stream",
     "text": [
      "{'id': 1, 'neighborhood': 'Green Oaks', 'price': 950000, 'bedrooms': 3, 'bathrooms': 3, 'size_sqft': 2500, 'description': 'Escape to this luxurious oasis in the heart of Green Oaks. This stunning 3-bedroom, 3-bathroom home offers unparalleled comfort and style. Featuring high-end finishes and state-of-the-art appliances, this home is perfect for hosting guests or simply relaxing after a long day. Enjoy the spacious backyard with a private pool and stunning views of the surrounding mountains. With access to top-rated schools and nearby amenities, this Green Oaks gem is the perfect blend of convenience and luxury.', 'neighborhood description': \"Experience the best of Green Oaks living in this beautiful family-friendly neighborhood. Enjoy fresh produce from the local farmer's market, explore the nearby parks and trails, and savor coffee at the charming cafes. With convenient access to public transportation and a strong community spirit, Green Oaks truly has something for everyone.\"}\n",
      "{'id': 2, 'neighborhood': 'Downtown Loft District', 'price': 1200000, 'bedrooms': 4, 'bathrooms': 3, 'size_sqft': 3000, 'description': 'Discover modern luxury in the heart of the Downtown Loft District. This stunning 4-bedroom, 3-bathroom loft boasts high-end finishes and expansive spaces. The sleek kitchen features stainless steel appliances and quartz countertops, perfect for the aspiring chef. With floor-to-ceiling windows, natural light floods the open-concept living and dining area, showcasing the contemporary design and chic accents. Unwind in the spacious master suite, complete with a spa-like en suite bathroom and walk-in closet. Live, work, and play surrounded by the vibrant energy of Downtown in this exceptional loft.', 'neighborhood description': 'Experience city living at its finest in the Downtown Loft District. Walk to nearby restaurants, entertainment venues, and galleries, or hop on the nearby public transportation for easy access to all the city has to offer. With a bustling energy and diverse community, Downtown is the ideal location for those seeking a vibrant lifestyle.'}\n",
      "{'id': 3, 'neighborhood': 'Westlake Hills', 'price': 1200000, 'bedrooms': 4, 'bathrooms': 3.5, 'size_sqft': 3500, 'description': 'Escape to the serene beauty of Westlake Hills in this luxurious 4-bedroom, 3.5-bathroom home. The spacious layout provides plenty of room for relaxation, with high-end finishes and stunning views of the surrounding natural landscape. Enjoy the gourmet kitchen, perfect for entertaining guests or preparing a quiet dinner at home. The oversized master bedroom features a spa-inspired en-suite bathroom and walk-in closet. Take a dip in the pool or unwind in the hot tub while taking in the peaceful surroundings.', 'neighborhood description': 'Westlake Hills is a highly sought-after neighborhood known for its picturesque scenery and upscale homes. Residents have access to top-rated schools, boutique shops, and gourmet restaurants within minutes of their doorstep. Enjoy the great outdoors with nearby nature trails and parks, or take a short drive to downtown for a night out on the town. With its prime location and luxurious amenities, Westlake Hills is the perfect place to call home.'}\n",
      "{'id': 4, 'neighborhood': 'Wildflower Village', 'price': 1200000, 'bedrooms': 4, 'bathrooms': 3, 'size_sqft': 3000, 'description': 'Welcome to this stunning luxury home nestled in the heart of Wildflower Village. This spacious 4-bedroom, 3-bathroom home boasts high-end finishes and expansive windows that provide an abundance of natural light. The open-concept kitchen and living area are perfect for entertaining, and the backyard features a beautiful pool and patio area. Enjoy breathtaking views of the surrounding wildflowers from your backyard oasis.', 'neighborhood description': 'Wildflower Village is a peaceful and picturesque community filled with natural beauty. Take a walk through the stunning wildflower fields or relax by the tranquil community pond. With convenient access to upscale shopping and dining, as well as top-rated schools, Wildflower Village is the perfect place to call home.'}\n",
      "{'id': 5, 'neighborhood': 'Lakeview', 'price': 950000, 'bedrooms': 4, 'bathrooms': 3, 'size_sqft': 3500, 'description': 'Welcome to this spacious Lakeview home with modern finishes and plenty of natural light. This 4-bedroom, 3-bathroom oasis offers an open floor plan with hardwood floors and a gourmet kitchen featuring stainless steel appliances and granite countertops. The luxurious master suite includes a spa-like bathroom and walk-in closet. Enjoy outdoor living on the expansive deck overlooking the serene backyard. Experience the best of city living in this vibrant Lakeview neighborhood.', 'neighborhood description': \"Lakeview is one of Chicago's most popular neighborhoods, known for its trendy restaurants, lively bars, and boutique shops. Enjoy a scenic walk or bike ride along the nearby lakefront trail, or take a leisurely stroll through the picturesque Southport Corridor. With convenient access to public transportation, commuting to the rest of the city is a breeze.\"}\n",
      "{'id': 6, 'neighborhood': 'Westlake Hills', 'price': 950000, 'bedrooms': 4, 'bathrooms': 3, 'size_sqft': 3000, 'description': 'Welcome to this luxurious, modern home nestled in the prestigious Westlake Hills neighborhood. This beautiful 4-bedroom, 3-bathroom home offers an open-concept living space perfect for entertaining. The stunning kitchen features high-end appliances and sleek finishes. Retreat to the spacious master suite with a luxurious en-suite bathroom and walk-in closet. Enjoy the peaceful backyard with a covered patio, perfect for outdoor gatherings. With access to top-rated schools and just minutes from downtown, this Westlake Hills home has it all.', 'neighborhood description': 'Westlake Hills is an upscale, family-friendly neighborhood with highly-rated schools, beautiful parks, and easy access to downtown amenities. Enjoy the breathtaking views of the surrounding hill country and take a hike on the nearby Barton Creek Greenbelt. Indulge in the local dining options, from top-rated restaurants to cozy cafes. With a close-knit community and all the luxuries of modern living, Westlake Hills is the ideal location for your dream home.'}\n",
      "{'id': 7, 'neighborhood': 'Downtown', 'price': 1200000, 'bedrooms': 4, 'bathrooms': 3, 'size_sqft': 3000, 'description': 'Experience luxurious living in the heart of Downtown in this spacious 4-bedroom, 3-bathroom home. Modern fixtures and high-end finishes create an elevated ambiance throughout the grand living spaces. Cook and dine in style in the open-concept kitchen and dining area, featuring top-of-the-line appliances and a large island. The luxurious master suite boasts a walk-in closet, spa-like ensuite with a soaking tub, and access to a private balcony with stunning city views. Enjoy convenient city living with easy access to shopping, dining, and entertainment.', 'neighborhood description': 'Downtown is a vibrant and bustling neighborhood with a mix of residential and commercial spaces. Enjoy a diverse selection of locally-owned businesses and restaurants, as well as popular retail stores. The bustling downtown area offers easy access to public transportation and major highways for a seamless commute. Embrace city living at its finest in Downtown.'}\n",
      "{'id': 8, 'neighborhood': 'Westside', 'price': 1200000, 'bedrooms': 4, 'bathrooms': 3, 'size_sqft': 3000, 'description': 'Welcome to this stunning modern home in the sought-after Westside neighborhood. This 4-bedroom, 3-bathroom gem features high-end finishes and luxurious amenities. The open-concept living and dining area offer seamless transitions to the outdoor entertainment space, complete with a pool and outdoor kitchen. The spacious master suite is the perfect retreat with a spa-like bathroom and walk-in closet. The Westside neighborhood is known for its gourmet restaurants, trendy shops, and easy access to outdoor activities such as hiking and water sports.', 'neighborhood description': 'Westside is a vibrant and upscale community, known for its diverse population and buzzing nightlife. Enjoy a variety of cuisines from award-winning restaurants, shop at trendy boutiques, or take a short drive to the nearby mountains or beach. With top-rated schools and a close-knit community, Westside is the perfect place to call home.'}\n",
      "{'id': 9, 'neighborhood': 'Midtown', 'price': 850000, 'bedrooms': 3, 'bathrooms': 3, 'size_sqft': 2400, 'description': \"Welcome to your urban sanctuary in the heart of Midtown. This newly renovated 3-bedroom, 3-bathroom home features modern design and luxurious finishes. The spacious and bright living area is perfect for entertaining, with a chef's kitchen and stunning city views. The master suite boasts a spa-like bathroom and walk-in closet. Enjoy the convenience of a private garage and the outdoor oasis of the rooftop terrace. Experience all that Midtown has to offer with its bustling art scene, vibrant nightlife, and diverse dining options.\", 'neighborhood description': 'Midtown is a dynamic and lively neighborhood known for its thriving arts community and top-notch restaurants. With easy access to public transportation and walkable streets, explore all that Midtown has to offer, from the bustling art galleries to the pulsing music venues. Grab coffee at the hip local cafe and browse the boutiques in the trendy fashion district. Live the urban lifestyle in Midtown.'}\n",
      "{'id': 10, 'neighborhood': 'Dolores Heights', 'price': 1200000, 'bedrooms': 4, 'bathrooms': 2, 'size_sqft': 3000, 'description': \"Welcome to this stunning 4-bedroom, 2-bathroom home in the highly desirable neighborhood of Dolores Heights. This spacious home features an open floor plan, perfect for entertaining. The kitchen is equipped with high-end appliances and custom cabinetry. Enjoy the view from the large windows in the living room, highlighting the gorgeous hardwood floors and modern finishes. Step outside to the backyard oasis, complete with a barbecue area and hot tub - the perfect spot to relax after a long day. Don't miss your chance to own a piece of luxury in coveted Dolores Heights.\", 'neighborhood description': 'Dolores Heights is a vibrant and affluent neighborhood with an eclectic mix of restaurants, cafes, and boutiques. Enjoy a picnic in the nearby Dolores Park or take a hike in the nearby Twin Peaks. With convenient public transportation options and easy access to freeways, commuting to downtown or Silicon Valley is a breeze.'}\n"
     ]
    }
   ],
   "source": [
    "process_listings(listings_map)"
   ]
  },
  {
   "cell_type": "markdown",
   "id": "d8ac3e38",
   "metadata": {},
   "source": []
  },
  {
   "cell_type": "code",
   "execution_count": 5,
   "id": "9d3357a5",
   "metadata": {},
   "outputs": [
    {
     "name": "stdout",
     "output_type": "stream",
     "text": [
      "Running on local URL:  http://127.0.0.1:7860\n",
      "\n",
      "To create a public link, set `share=True` in `launch()`.\n"
     ]
    },
    {
     "data": {
      "text/html": [
       "<div><iframe src=\"http://127.0.0.1:7860/\" width=\"100%\" height=\"500\" allow=\"autoplay; camera; microphone; clipboard-read; clipboard-write;\" frameborder=\"0\" allowfullscreen></iframe></div>"
      ],
      "text/plain": [
       "<IPython.core.display.HTML object>"
      ]
     },
     "metadata": {},
     "output_type": "display_data"
    }
   ],
   "source": [
    "%run app.py"
   ]
  },
  {
   "cell_type": "code",
   "execution_count": null,
   "id": "28e2e74b",
   "metadata": {},
   "outputs": [],
   "source": []
  }
 ],
 "metadata": {
  "kernelspec": {
   "display_name": "Python 3 (ipykernel)",
   "language": "python",
   "name": "python3"
  },
  "language_info": {
   "codemirror_mode": {
    "name": "ipython",
    "version": 3
   },
   "file_extension": ".py",
   "mimetype": "text/x-python",
   "name": "python",
   "nbconvert_exporter": "python",
   "pygments_lexer": "ipython3",
   "version": "3.11.7"
  }
 },
 "nbformat": 4,
 "nbformat_minor": 5
}
