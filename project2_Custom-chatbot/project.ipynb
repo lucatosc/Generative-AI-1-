{
 "cells": [
  {
   "cell_type": "markdown",
   "id": "124e5672",
   "metadata": {},
   "source": [
    "# Custom Chatbot Project"
   ]
  },
  {
   "cell_type": "markdown",
   "id": "2a4a94b3",
   "metadata": {},
   "source": [
    "TODO: In this cell, write an explanation of which dataset you have chosen and why it is appropriate for this task\n",
    "\n",
    "For this Custom Chatbot project, I have strategically opted for the 2023 Fashion Trends dataset to drive our fashion-oriented conversational interface. This dataset meticulously captures the nuanced dynamics of the contemporary fashion landscape, encapsulating trending styles, popular color schemes, fabric preferences, and other pivotal fashion insights observed throughout 2023. This dataset aligns seamlessly with the objective of facilitating the development of a sophisticated chatbot tailored to meet the discerning needs of fashion enthusiasts and industry stakeholders alike.\n",
    "\n",
    "A custom chatbot equipped with a tailored fashion trends dataset, such as the 2023 Fashion Trends dataset, holds significant potential for companies like H&M, Zalando, or any other fashion company. Here's why:\n",
    "\n",
    "* **Real-time Insights**: The chatbot provides real-time insights into the latest fashion trends, ensuring that companies stay updated with the rapidly changing preferences of consumers. This enables fashion companies to adapt their product offerings and marketing strategies accordingly, staying ahead of competitors.\n",
    "\n",
    "* **Personalized Customer Experience**: With the chatbot's ability to deliver customized information on fashion trends, companies can offer a personalized experience to their customers. By understanding individual preferences and style choices, companies like H&M and Zalando can recommend products that align with each customer's unique taste, leading to higher customer satisfaction and loyalty.\n",
    "\n",
    "* **Market Research and Product Development**: The chatbot can also serve as a valuable tool for conducting market research and gathering insights into consumer preferences. By analyzing the interactions and queries received by the chatbot, fashion companies can identify emerging trends, popular styles, and customer preferences, informing their product development and inventory management strategies.\n",
    "\n",
    "* **Enhanced Customer Engagement**: Integrating a chatbot with a custom fashion trends dataset enhances customer engagement by providing a convenient and interactive platform for users to explore the latest trends, seek fashion advice, and discover new styles. This fosters a deeper connection between the brand and its customers, driving brand loyalty and advocacy.\n",
    "\n",
    "* **Competitive Advantage**: By leveraging a chatbot with exclusive access to current fashion trends data, companies can gain a competitive advantage in the market. They can position themselves as industry leaders who are at the forefront of innovation and trend forecasting, attracting fashion-forward consumers and setting trends rather than merely following them."
   ]
  },
  {
   "cell_type": "markdown",
   "id": "a63d4c5f",
   "metadata": {},
   "source": [
    "## Data Wrangling\n",
    "\n",
    "TODO: In the cells below, load your chosen dataset into a `pandas` dataframe with a column named `\"text\"`. This column should contain all of your text data, separated into at least 20 rows."
   ]
  },
  {
   "cell_type": "code",
   "execution_count": 1,
   "id": "c69b83a1",
   "metadata": {},
   "outputs": [],
   "source": [
    "import pandas as pd\n",
    "import openai\n",
    "import numpy as np\n",
    "import tiktoken"
   ]
  },
  {
   "cell_type": "code",
   "execution_count": 2,
   "id": "bd4a1ce8",
   "metadata": {},
   "outputs": [],
   "source": [
    "# read data\n",
    "df = pd.read_csv('data/2023_fashion_trends.csv')"
   ]
  },
  {
   "cell_type": "code",
   "execution_count": 3,
   "id": "0a595980",
   "metadata": {},
   "outputs": [
    {
     "data": {
      "text/html": [
       "<div>\n",
       "<style scoped>\n",
       "    .dataframe tbody tr th:only-of-type {\n",
       "        vertical-align: middle;\n",
       "    }\n",
       "\n",
       "    .dataframe tbody tr th {\n",
       "        vertical-align: top;\n",
       "    }\n",
       "\n",
       "    .dataframe thead th {\n",
       "        text-align: right;\n",
       "    }\n",
       "</style>\n",
       "<table border=\"1\" class=\"dataframe\">\n",
       "  <thead>\n",
       "    <tr style=\"text-align: right;\">\n",
       "      <th></th>\n",
       "      <th>URL</th>\n",
       "      <th>Trends</th>\n",
       "      <th>Source</th>\n",
       "    </tr>\n",
       "  </thead>\n",
       "  <tbody>\n",
       "    <tr>\n",
       "      <th>0</th>\n",
       "      <td>https://www.refinery29.com/en-us/fashion-trend...</td>\n",
       "      <td>2023 Fashion Trend: Red. Glossy red hues took ...</td>\n",
       "      <td>7 Fashion Trends That Will Take Over 2023 — Sh...</td>\n",
       "    </tr>\n",
       "    <tr>\n",
       "      <th>1</th>\n",
       "      <td>https://www.refinery29.com/en-us/fashion-trend...</td>\n",
       "      <td>2023 Fashion Trend: Cargo Pants. Utilitarian w...</td>\n",
       "      <td>7 Fashion Trends That Will Take Over 2023 — Sh...</td>\n",
       "    </tr>\n",
       "    <tr>\n",
       "      <th>2</th>\n",
       "      <td>https://www.refinery29.com/en-us/fashion-trend...</td>\n",
       "      <td>2023 Fashion Trend: Sheer Clothing. \"Bare it a...</td>\n",
       "      <td>7 Fashion Trends That Will Take Over 2023 — Sh...</td>\n",
       "    </tr>\n",
       "    <tr>\n",
       "      <th>3</th>\n",
       "      <td>https://www.refinery29.com/en-us/fashion-trend...</td>\n",
       "      <td>2023 Fashion Trend: Denim Reimagined. From dou...</td>\n",
       "      <td>7 Fashion Trends That Will Take Over 2023 — Sh...</td>\n",
       "    </tr>\n",
       "    <tr>\n",
       "      <th>4</th>\n",
       "      <td>https://www.refinery29.com/en-us/fashion-trend...</td>\n",
       "      <td>2023 Fashion Trend: Shine For The Daytime. The...</td>\n",
       "      <td>7 Fashion Trends That Will Take Over 2023 — Sh...</td>\n",
       "    </tr>\n",
       "  </tbody>\n",
       "</table>\n",
       "</div>"
      ],
      "text/plain": [
       "                                                 URL  \\\n",
       "0  https://www.refinery29.com/en-us/fashion-trend...   \n",
       "1  https://www.refinery29.com/en-us/fashion-trend...   \n",
       "2  https://www.refinery29.com/en-us/fashion-trend...   \n",
       "3  https://www.refinery29.com/en-us/fashion-trend...   \n",
       "4  https://www.refinery29.com/en-us/fashion-trend...   \n",
       "\n",
       "                                              Trends  \\\n",
       "0  2023 Fashion Trend: Red. Glossy red hues took ...   \n",
       "1  2023 Fashion Trend: Cargo Pants. Utilitarian w...   \n",
       "2  2023 Fashion Trend: Sheer Clothing. \"Bare it a...   \n",
       "3  2023 Fashion Trend: Denim Reimagined. From dou...   \n",
       "4  2023 Fashion Trend: Shine For The Daytime. The...   \n",
       "\n",
       "                                              Source  \n",
       "0  7 Fashion Trends That Will Take Over 2023 — Sh...  \n",
       "1  7 Fashion Trends That Will Take Over 2023 — Sh...  \n",
       "2  7 Fashion Trends That Will Take Over 2023 — Sh...  \n",
       "3  7 Fashion Trends That Will Take Over 2023 — Sh...  \n",
       "4  7 Fashion Trends That Will Take Over 2023 — Sh...  "
      ]
     },
     "execution_count": 3,
     "metadata": {},
     "output_type": "execute_result"
    }
   ],
   "source": [
    "# display first rows\n",
    "df.head()"
   ]
  },
  {
   "cell_type": "code",
   "execution_count": 4,
   "id": "acb3a9fd",
   "metadata": {},
   "outputs": [
    {
     "data": {
      "text/plain": [
       "(82, 3)"
      ]
     },
     "execution_count": 4,
     "metadata": {},
     "output_type": "execute_result"
    }
   ],
   "source": [
    "# shows number of lines and columns\n",
    "df.shape"
   ]
  },
  {
   "cell_type": "code",
   "execution_count": 5,
   "id": "77985585",
   "metadata": {},
   "outputs": [],
   "source": [
    "# drop irrelevant columns\n",
    "df.drop(['URL', 'Source'], axis=1, inplace=True)"
   ]
  },
  {
   "cell_type": "code",
   "execution_count": 6,
   "id": "bf2f0082",
   "metadata": {},
   "outputs": [],
   "source": [
    "# rename context colum as 'text' due to project instruction\n",
    "df = df.rename(columns={'Trends': 'text'})"
   ]
  },
  {
   "cell_type": "code",
   "execution_count": 7,
   "id": "5d619e1f",
   "metadata": {},
   "outputs": [
    {
     "data": {
      "text/html": [
       "<div>\n",
       "<style scoped>\n",
       "    .dataframe tbody tr th:only-of-type {\n",
       "        vertical-align: middle;\n",
       "    }\n",
       "\n",
       "    .dataframe tbody tr th {\n",
       "        vertical-align: top;\n",
       "    }\n",
       "\n",
       "    .dataframe thead th {\n",
       "        text-align: right;\n",
       "    }\n",
       "</style>\n",
       "<table border=\"1\" class=\"dataframe\">\n",
       "  <thead>\n",
       "    <tr style=\"text-align: right;\">\n",
       "      <th></th>\n",
       "      <th>text</th>\n",
       "    </tr>\n",
       "  </thead>\n",
       "  <tbody>\n",
       "    <tr>\n",
       "      <th>0</th>\n",
       "      <td>2023 Fashion Trend: Red. Glossy red hues took ...</td>\n",
       "    </tr>\n",
       "    <tr>\n",
       "      <th>1</th>\n",
       "      <td>2023 Fashion Trend: Cargo Pants. Utilitarian w...</td>\n",
       "    </tr>\n",
       "    <tr>\n",
       "      <th>2</th>\n",
       "      <td>2023 Fashion Trend: Sheer Clothing. \"Bare it a...</td>\n",
       "    </tr>\n",
       "    <tr>\n",
       "      <th>3</th>\n",
       "      <td>2023 Fashion Trend: Denim Reimagined. From dou...</td>\n",
       "    </tr>\n",
       "    <tr>\n",
       "      <th>4</th>\n",
       "      <td>2023 Fashion Trend: Shine For The Daytime. The...</td>\n",
       "    </tr>\n",
       "  </tbody>\n",
       "</table>\n",
       "</div>"
      ],
      "text/plain": [
       "                                                text\n",
       "0  2023 Fashion Trend: Red. Glossy red hues took ...\n",
       "1  2023 Fashion Trend: Cargo Pants. Utilitarian w...\n",
       "2  2023 Fashion Trend: Sheer Clothing. \"Bare it a...\n",
       "3  2023 Fashion Trend: Denim Reimagined. From dou...\n",
       "4  2023 Fashion Trend: Shine For The Daytime. The..."
      ]
     },
     "execution_count": 7,
     "metadata": {},
     "output_type": "execute_result"
    }
   ],
   "source": [
    "# display first rows again\n",
    "df.head()"
   ]
  },
  {
   "cell_type": "markdown",
   "id": "ae769871",
   "metadata": {},
   "source": [
    "## Custom Query Completion\n",
    "\n",
    "TODO: In the cells below, compose a custom query using your chosen dataset and retrieve results from an OpenAI `Completion` model. You may copy and paste any useful code from the course materials."
   ]
  },
  {
   "cell_type": "code",
   "execution_count": 8,
   "id": "582f0656",
   "metadata": {},
   "outputs": [],
   "source": [
    "# OpenAI API\n",
    "client = openai.OpenAI()"
   ]
  },
  {
   "cell_type": "code",
   "execution_count": 9,
   "id": "c403f543",
   "metadata": {},
   "outputs": [],
   "source": [
    "# Set up a similarity calculator based on cosine distance\n",
    "\n",
    "class SimilarityCalculator:\n",
    "    \"\"\"\n",
    "    A class to calculate similarity between text embeddings using cosine similarity.\n",
    "\n",
    "    Attributes:\n",
    "        client: An object providing access to text embedding services.\n",
    "    \"\"\"\n",
    "\n",
    "    def __init__(self, client):\n",
    "        \"\"\"\n",
    "        Initializes the SimilarityCalculator with a client object.\n",
    "\n",
    "        Parameters:\n",
    "            client: An object providing access to text embedding services via OpenAI.\n",
    "        \"\"\"\n",
    "        self.client = client\n",
    "\n",
    "    def get_embedding(self, text: str) -> list:\n",
    "        \"\"\"\n",
    "        Retrieves the embedding of the given text using the client's embedding service.\n",
    "\n",
    "        Parameters:\n",
    "            text: A string representing the text for which the embedding is needed.\n",
    "\n",
    "        Returns:\n",
    "            A list representing the embedding of the text.\n",
    "        \"\"\"\n",
    "        # Call the client's embedding service to get the embedding for the text\n",
    "        response = self.client.embeddings.create(\n",
    "            input=text,\n",
    "            model=\"text-embedding-ada-002\"\n",
    "        )\n",
    "        # Return the embedding from the response\n",
    "        return response.data[0].embedding\n",
    "\n",
    "    def calculate_cosine_similarity(self, embedding1, embedding2):\n",
    "        \"\"\"\n",
    "        Calculates the cosine similarity between two embeddings.\n",
    "\n",
    "        Parameters:\n",
    "            embedding1: The embedding of the first text.\n",
    "            embedding2: The embedding of the second text.\n",
    "\n",
    "        Returns:\n",
    "            The cosine similarity score between the two embeddings.\n",
    "        \"\"\"\n",
    "        # Calculate the dot product of the two embeddings\n",
    "        dot_product = np.dot(embedding1, embedding2)\n",
    "        # Calculate the norms of the embeddings\n",
    "        norm_embedding1 = np.linalg.norm(embedding1)\n",
    "        norm_embedding2 = np.linalg.norm(embedding2)\n",
    "        # Calculate the cosine similarity using the dot product and the norms\n",
    "        cosine_similarity = dot_product / (norm_embedding1 * norm_embedding2)\n",
    "        return cosine_similarity"
   ]
  },
  {
   "cell_type": "code",
   "execution_count": 10,
   "id": "599cc035",
   "metadata": {},
   "outputs": [],
   "source": [
    "# Initialize the similarity calculator\n",
    "similarity_calculator = SimilarityCalculator(openai)"
   ]
  },
  {
   "cell_type": "code",
   "execution_count": 11,
   "id": "af5d6cd2",
   "metadata": {},
   "outputs": [],
   "source": [
    "# Calculate embeddings for each text and store them in a new column 'embedding'\n",
    "df['embeddings'] = df['text'].apply(\n",
    "    lambda x: similarity_calculator.get_embedding(x))"
   ]
  },
  {
   "cell_type": "code",
   "execution_count": 12,
   "id": "74280b92",
   "metadata": {},
   "outputs": [],
   "source": [
    "# Calculate cosine similarity for each pair of embeddings\n",
    "cosine_similarities = []\n",
    "for i in range(len(df)):\n",
    "    for j in range(i+1, len(df)):\n",
    "        similarity_score = similarity_calculator.calculate_cosine_similarity(\n",
    "            df['embeddings'][i], df['embeddings'][j])\n",
    "        cosine_similarities.append(similarity_score)"
   ]
  },
  {
   "cell_type": "code",
   "execution_count": 13,
   "id": "c3e7a426",
   "metadata": {},
   "outputs": [],
   "source": [
    "# Set up function sorting df by relevance based on cosine similarity\n",
    "def sort_dataframe_by_relevance(question, df, similarity_calculator):\n",
    "    \"\"\"\n",
    "    Sorts a DataFrame by relevance scores calculated based on the similarity between\n",
    "    the provided question and embeddings in the DataFrame.\n",
    "\n",
    "    Parameters:\n",
    "    - question (str): The input question for relevance comparison.\n",
    "    - df (DataFrame): The pandas DataFrame containing embeddings to be compared with the question.\n",
    "    - similarity_calculator (SimilarityCalculator): An object capable of calculating embeddings\n",
    "      and cosine similarity scores.\n",
    "\n",
    "    Returns:\n",
    "    - sorted_df (DataFrame): The DataFrame sorted in descending order of relevance scores\n",
    "      based on cosine similarity with the question.\n",
    "    \"\"\"\n",
    "    # Calculate the embedding of the question\n",
    "    question_embedding = similarity_calculator.get_embedding(question)\n",
    "\n",
    "    # Calculate cosine similarity between the question embedding and each embedding in the DataFrame\n",
    "    relevance_scores = []\n",
    "    for i, row in df.iterrows():\n",
    "        similarity_score = similarity_calculator.calculate_cosine_similarity(\n",
    "            question_embedding, row['embeddings'])\n",
    "        relevance_scores.append(similarity_score)\n",
    "\n",
    "    # Add relevance scores to the DataFrame\n",
    "    df['relevance_score'] = relevance_scores\n",
    "\n",
    "    # Sort the DataFrame based on relevance scores\n",
    "    sorted_df = df.sort_values(by='relevance_score', ascending=False)\n",
    "\n",
    "    return sorted_df"
   ]
  },
  {
   "cell_type": "code",
   "execution_count": 14,
   "id": "18b618b8",
   "metadata": {},
   "outputs": [],
   "source": [
    "# Set up variables for model and max tokens\n",
    "model_name = \"gpt-3.5-turbo-instruct\"\n",
    "max_tokens = 2400"
   ]
  },
  {
   "cell_type": "code",
   "execution_count": 15,
   "id": "fedb8071",
   "metadata": {},
   "outputs": [],
   "source": [
    "# Set up function for generating an answer (without providing a context) for a given prompt\n",
    "def generate_initial_answer(prompt, max_tokens):\n",
    "    \"\"\"\n",
    "    Generate an initial answer based on the given prompt.\n",
    "\n",
    "    Args:\n",
    "        prompt (str): The prompt to generate the initial answer from.\n",
    "        max_tokens (int): The maximum number of tokens for the initial answer, \n",
    "                          ensuring it does not exceed the limit of 4,096 tokens.\n",
    "\n",
    "    Returns:\n",
    "        tuple: A tuple containing the finish reason and the initial answer text.\n",
    "               - finish_reason (str): The reason for finishing the generation process.\n",
    "               - initial_answer (str): The generated initial answer.\n",
    "    \"\"\"\n",
    "    # Ensure that max_tokens does not exceed the limit of 4,096 tokens\n",
    "    max_tokens = min(max_tokens, 4096)\n",
    "\n",
    "    # Make the API call to create completions\n",
    "    response = client.completions.create(\n",
    "        model=model_name,\n",
    "        prompt=prompt,\n",
    "        max_tokens=max_tokens\n",
    "    )\n",
    "\n",
    "    # Extract finish_reason and text directly from the response.choices[0]\n",
    "    finish_reason = response.choices[0].finish_reason\n",
    "\n",
    "    # Truncate the text to fit within the max_tokens limit\n",
    "    initial_answer = response.choices[0].text.strip()[:max_tokens]\n",
    "\n",
    "    return finish_reason, initial_answer"
   ]
  },
  {
   "cell_type": "code",
   "execution_count": 16,
   "id": "c2cd8843",
   "metadata": {},
   "outputs": [],
   "source": [
    "# first question\n",
    "prompt_q1 = \"\"\"\n",
    "Question: \"What are the fashion trends in the year 2023?\"\n",
    "Answer:\n",
    "\"\"\""
   ]
  },
  {
   "cell_type": "code",
   "execution_count": 17,
   "id": "b2346e8f",
   "metadata": {},
   "outputs": [
    {
     "name": "stdout",
     "output_type": "stream",
     "text": [
      "Finish Reason: stop\n",
      "Initial Answer: Fashion trends for 2023 are still developing, but based on current social and cultural shifts, here are some potential fashion trends that could emerge in the year 2023:\n",
      "\n",
      "1. Sustainable and Ethical Fashion \n",
      "In recent years, there has been a growing movement towards ethical and sustainable fashion. In 2023, this trend is likely to become more prevalent as consumers become more aware of the environmental and social impact of fast fashion. This could lead to an increased focus on using eco-friendly materials, fair labor practices, and transparent supply chains in the fashion industry.\n",
      "\n",
      "2. Maximalism \n",
      "While minimalism has been a dominant trend in fashion for the past few years, maximalism is on the rise. In 2023, bold and loud fashion choices, such as statement prints, bright colors, and oversized silhouettes, could become more popular. This trend reflects a desire for self-expression and individuality in fashion.\n",
      "\n",
      "3. Nostalgia and Retro Revivals \n",
      "Fashion is cyclical, and we often see trends from the past resurfacing in modern times. In 2023, we could see a resurgence of fashion styles from the 1990s and early 2000s, such as baggy jeans, chunky sneakers, and crop tops. Nostalgia for past eras is a key driving force behind this trend.\n",
      "\n",
      "4. Gender-Neutral Fashion \n",
      "As society becomes more accepting and inclusive of the LGBTQ+ community, gender-neutral fashion is gaining traction. In 2023, we could see a blend of traditionally male and female clothing styles, as well as a rise in unisex fashion collections. This trend reflects a move towards breaking down gender stereotypes in fashion.\n",
      "\n",
      "5. Technological Integration \n",
      "As technology continues to advance and become a larger part of our daily lives, we could see it being integrated into fashion in 2023. This could include tech-infused clothing with unique features such as self-healing fabric, temperature control, and even built-in charging capabilities for devices.\n",
      "\n",
      "6. Activewear as Everyday Wear \n",
      "Athleisure has been popular for several years now, but in 2023, we could see it become even more mainstream. The line between athletic clothing and everyday wear will continue to blur, with comfortable, functional, and stylish clothing being worn in various settings.\n",
      "\n",
      "7. Inclusivity and Diversity \n",
      "The fashion industry has been criticized for its lack of inclusivity and diversity in the past. In 2023, this could change as designe\n"
     ]
    }
   ],
   "source": [
    "# Generate and print the initial answer along with finish_reason for first question\n",
    "initial_finishreason_q1, initial_answer_q1 = generate_initial_answer(\n",
    "    prompt_q1, max_tokens)\n",
    "print(\"Finish Reason:\", initial_finishreason_q1)\n",
    "print(\"Initial Answer:\", initial_answer_q1)"
   ]
  },
  {
   "cell_type": "code",
   "execution_count": 18,
   "id": "88e63620",
   "metadata": {},
   "outputs": [],
   "source": [
    "# second question\n",
    "prompt_q2 = \"\"\"\n",
    "Question: \"What colors are trending in the year 2023?\"\n",
    "Answer:\n",
    "\"\"\""
   ]
  },
  {
   "cell_type": "code",
   "execution_count": 19,
   "id": "4698621e",
   "metadata": {},
   "outputs": [
    {
     "name": "stdout",
     "output_type": "stream",
     "text": [
      "Finish Reason: stop\n",
      "Initial Answer: It is difficult to predict the exact colors that will be trending in the year 2023 as fashion and design trends are constantly evolving. However, according to experts, some colors that may be popular in 2023 include ecru, terra cotta, emerald green, burgundy, and shades of blue such as navy and aqua. Additionally, with a focus on sustainability and eco-friendliness, natural and earthy tones are expected to be popular in 2023, such as warm beige, terracotta, and olive green. Ultimately, color trends in 2023 will be influenced by a variety of factors, including cultural and social influences, advancements in technology, and overarching design trends.\n"
     ]
    }
   ],
   "source": [
    "# Generate and print the initial answer along with finish_reason for second question\n",
    "initial_finishreason_q2, initial_answer_q2 = generate_initial_answer(\n",
    "    prompt_q2, max_tokens)\n",
    "print(\"Finish Reason:\", initial_finishreason_q2)\n",
    "print(\"Initial Answer:\", initial_answer_q2)"
   ]
  },
  {
   "cell_type": "code",
   "execution_count": 20,
   "id": "d56293cd",
   "metadata": {},
   "outputs": [],
   "source": [
    "# setting up custom query with context fed into the prompt\n",
    "def create_prompt(question, df, max_token_count):\n",
    "    \"\"\"\n",
    "    Create a prompt for a question based on the provided context dataframe, \n",
    "    ensuring that the total token count does not exceed a specified limit.\n",
    "\n",
    "    Parameters:\n",
    "    - question (str): The question to be answered based on the provided context.\n",
    "    - df (DataFrame): The pandas DataFrame containing the context.\n",
    "    - max_token_count (int): The maximum token count allowed in the prompt.\n",
    "\n",
    "    Returns:\n",
    "    - str: The formatted prompt containing the context and the question.\n",
    "    \"\"\"\n",
    "\n",
    "    # Create a tokenizer designed to align with the embeddings\n",
    "    tokenizer = tiktoken.get_encoding(\"cl100k_base\")\n",
    "\n",
    "    # Count the number of tokens in the prompt template and the question\n",
    "    prompt_template = \"\"\"\n",
    "    Answer the question based on the context provided below. If the question\n",
    "    cannot be answered based on the context, respond with \"I don't know\".\n",
    "\n",
    "    Context: \n",
    "\n",
    "    {}\n",
    "\n",
    "    ---\n",
    "\n",
    "    Question: {}\n",
    "    \n",
    "    Answer:\"\"\"\n",
    "\n",
    "    current_token_count = len(tokenizer.encode(prompt_template)) + \\\n",
    "        len(tokenizer.encode(question))\n",
    "\n",
    "    # Sort the dataframe by relevance using the provided similarity calculator\n",
    "    sorted_dataframe = sort_dataframe_by_relevance(\n",
    "        question, df, similarity_calculator)\n",
    "\n",
    "    context = []\n",
    "    # Iterate through the sorted dataframe\n",
    "    for _, row in sorted_dataframe.iterrows():\n",
    "        text = row[\"text\"]\n",
    "\n",
    "        # Increase the token counter based on the number of tokens in this row\n",
    "        text_token_count = len(tokenizer.encode(text))\n",
    "        current_token_count += text_token_count\n",
    "\n",
    "        # Add the row of text to the context list if the token count limit has not been exceeded\n",
    "        if current_token_count <= max_token_count:\n",
    "            context.append(text)\n",
    "        else:\n",
    "            break\n",
    "\n",
    "    # Return the formatted prompt\n",
    "    return prompt_template.format(\"\\n\\n###\\n\\n\".join(context), question)"
   ]
  },
  {
   "cell_type": "code",
   "execution_count": 21,
   "id": "952a8456",
   "metadata": {},
   "outputs": [
    {
     "name": "stdout",
     "output_type": "stream",
     "text": [
      "\n",
      "    Answer the question based on the context provided below. If the question\n",
      "    cannot be answered based on the context, respond with \"I don't know\".\n",
      "\n",
      "    Context: \n",
      "\n",
      "    2023 Fashion Trend: Cobalt Blue. The strongest color story to come out of Spring 2023 runways, cobalt blue has burst through the collections with the freshness of a sea mist on a morning day. Just bright enough to warrant a double take, yet subtle enough to be worked into daily wear, it's the type of deep blue that will excite even the most color-averse. Bonus points: It pairs well with Pantone's Viva Magenta.\n",
      "\n",
      "###\n",
      "\n",
      "2023 Fashion Trend: Red. Glossy red hues took over the Fall 2023 runways ranging from Sandy Liang and PatBo to Tory Burch and Wiederhoeft. Think: Juicy reds with vibrant orange undertones that would look just as good in head-to-toe looks (see: a pantsuit) as accent accessory pieces (shoes, handbags, jewelry).\n",
      "\n",
      "###\n",
      "\n",
      "2023 Fashion Trend: Shine For The Daytime. The amount of shine on the 2023 runways would make you think we are back in the Roaring '20s. While sequins may feel over as soon as the clock strikes midnight on January 31, this year, designers are making a case for \"daytime shine\" – wearable separates that can spice up even the most basic staples like tank tops (see above) and blue jeans. While this trend comes in all metallic shades (gold, bronze, rose gold etc.), we are partial to the liquid silver look that can double as a neutral.\n",
      "\n",
      "###\n",
      "\n",
      "\"Every season, there is a trend that speaks to the inner maximalist in us. While autumn gave us lurid neons, biker boots and Y2K glamour, spring/summer 2023 presents something a little sweeter, and those with an aversion to all things 'pretty,' consider this your warning to look away now,\" says Remy Farrell, shopping editor at Who What Wear UK.\n",
      "\n",
      "###\n",
      "\n",
      "In a diplomatic turn, designers have extended the lifespan of some noteworthy A/W 22 trends, continuing their exploration of them in 2023, ensuring we get adequate wear out of the pieces in which we've already invested. Elevated basics is one such trend. Last season, there was a clear '90s directive when it came to minimalism, with logo vests, low-slung trousers and tube dresses being hero items. Now, things have been pared back even further; sure, Y2K maxi skirts and oversized suiting are very much a thing, as witnessed on the runways of Peter Do and Roksanda respectively, but the silhouettes are cleaner and the colour palette looks more expensive; think shades of teal, camel and navy.\n",
      "\n",
      "###\n",
      "\n",
      "2023 Fashion Trend: Sheer Clothing. \"Bare it all\" has been the motto since the end of the lockdown. In 2023,  naked dressing makes its way from the red carpet – where celebrities like Cher and Rihanna have been sporting the trend forever – to street style. From a cellophane-like dress, worn over a boldly hued maxi skirt at Tory Burch's spring 2023 show, to a frothy frock revealing undergarments at Victoria Beckham, the previously risqué trend is coming not only for your weekend wardrobe but even workwear.\n",
      "\n",
      "###\n",
      "\n",
      "Pinstripe Tailoring. The suit vest sparked a sartorial sensation over the summer, and the fad isn’t going anywhere in 2023 either. I specifically loved the pinstripe versions seen at the Coperni SS23 show. I plan on wearing this one from Favorite Daughter with a matching pant for the ultimate gray outfit. —Laura Jackson, commerce writer\n",
      "\n",
      "###\n",
      "\n",
      "2023 Fashion Trend: Cargo Pants. Utilitarian wear is in for 2023, which sets the stage for the return of the cargo pant. But these aren't the shapeless, low-rise pants of the Y2K era. For spring, this trend is translated into tailored silhouettes, interesting pocket placements, elevated fabrics like silk and organza, and colors that go beyond khaki and olive.\n",
      "\n",
      "###\n",
      "\n",
      "For spring 2023, there was a more surrealist interpretation with standout 3D designs and runway looks embellished with floral motifs. Standouts included provocative sculptural flowers on mini and maxi dresses paired with bold leaf shoes, says Page.\n",
      "\n",
      "    ---\n",
      "\n",
      "    Question: Is black a color that is suitable to wear in 2023?\n",
      "    \n",
      "    Answer:\n"
     ]
    }
   ],
   "source": [
    "# Double-check custom prompt input\n",
    "print(create_prompt(\"Is black a color that is suitable to wear in 2023?\", df, 1000))"
   ]
  },
  {
   "cell_type": "code",
   "execution_count": 22,
   "id": "33e2627d",
   "metadata": {},
   "outputs": [],
   "source": [
    "# Set up function for generating an answer (with providing a context) for a given prompt\n",
    "def generate_custom_answer(question, max_tokens, max_tokens_create_prompt=1000):\n",
    "    \"\"\"\n",
    "    Generate a custom answer for a given question using an API call.\n",
    "\n",
    "    Args:\n",
    "    - question (str): The question for which a custom answer is generated.\n",
    "    - max_tokens (int): The maximum number of tokens allowed for the generated answer. It should not exceed 4,096 tokens.\n",
    "    - max_tokens_create_prompt (int, optional): The maximum number of tokens allowed for creating the prompt. Defaults to 1000. It should not exceed 4,096 tokens.\n",
    "\n",
    "    Returns:\n",
    "    - tuple: A tuple containing the finish_reason and the custom answer generated.\n",
    "        - finish_reason (str): The reason for finishing the generation process.\n",
    "        - custom_answer (str): The generated custom answer.\n",
    "\n",
    "    Notes:\n",
    "    - This function ensures that the maximum number of tokens does not exceed the limit of 4,096 tokens.\n",
    "    - It creates a prompt using the 'create_prompt' function.\n",
    "    - Makes an API call to OpenAI to create completions based on the provided model and prompt.\n",
    "    - Extracts the finish_reason and text from the API response.\n",
    "    - Truncates the text to fit within the 'max_tokens' limit before returning.\n",
    "\n",
    "    \"\"\"\n",
    "    # Ensure that max_tokens does not exceed the limit of 4,096 tokens\n",
    "    max_tokens = min(max_tokens, 4096)\n",
    "    # Ensure that max_tokens_create_prompt does not exceed the limit of 4,096 tokens\n",
    "    max_tokens_create_prompt = min(max_tokens_create_prompt, 4096)\n",
    "\n",
    "    # Create prompt using create_prompt function\n",
    "    prompt = create_prompt(question=question, df=df,\n",
    "                           max_token_count=max_tokens_create_prompt)\n",
    "\n",
    "    # Make the OpenAI API call to create completions\n",
    "    response = client.completions.create(\n",
    "        model=model_name,\n",
    "        prompt=prompt,\n",
    "        max_tokens=max_tokens\n",
    "    )\n",
    "\n",
    "    # Extract finish_reason and text directly from the response.choices[0]\n",
    "    finish_reason = response.choices[0].finish_reason\n",
    "\n",
    "    # Truncate the text to fit within the max_tokens limit\n",
    "    custom_answer = response.choices[0].text.strip()[:max_tokens]\n",
    "\n",
    "    return finish_reason, custom_answer"
   ]
  },
  {
   "cell_type": "markdown",
   "id": "1783f146",
   "metadata": {},
   "source": [
    "## Custom Performance Demonstration\n",
    "\n",
    "TODO: In the cells below, demonstrate the performance of your custom query using at least 2 questions. For each question, show the answer from a basic `Completion` model query as well as the answer from your custom query."
   ]
  },
  {
   "cell_type": "markdown",
   "id": "4f11fdc0",
   "metadata": {},
   "source": [
    "### Question 1"
   ]
  },
  {
   "cell_type": "code",
   "execution_count": 23,
   "id": "f5e58f46",
   "metadata": {},
   "outputs": [
    {
     "name": "stdout",
     "output_type": "stream",
     "text": [
      "\n",
      "Question: \"What are the fashion trends in the year 2023?\"\n",
      "Answer:\n",
      "\n"
     ]
    }
   ],
   "source": [
    "# print first question\n",
    "print(prompt_q1)"
   ]
  },
  {
   "cell_type": "code",
   "execution_count": 24,
   "id": "4901c850",
   "metadata": {},
   "outputs": [
    {
     "name": "stdout",
     "output_type": "stream",
     "text": [
      "Finish Reason: stop\n",
      "Initial Answer: Fashion trends for 2023 are still developing, but based on current social and cultural shifts, here are some potential fashion trends that could emerge in the year 2023:\n",
      "\n",
      "1. Sustainable and Ethical Fashion \n",
      "In recent years, there has been a growing movement towards ethical and sustainable fashion. In 2023, this trend is likely to become more prevalent as consumers become more aware of the environmental and social impact of fast fashion. This could lead to an increased focus on using eco-friendly materials, fair labor practices, and transparent supply chains in the fashion industry.\n",
      "\n",
      "2. Maximalism \n",
      "While minimalism has been a dominant trend in fashion for the past few years, maximalism is on the rise. In 2023, bold and loud fashion choices, such as statement prints, bright colors, and oversized silhouettes, could become more popular. This trend reflects a desire for self-expression and individuality in fashion.\n",
      "\n",
      "3. Nostalgia and Retro Revivals \n",
      "Fashion is cyclical, and we often see trends from the past resurfacing in modern times. In 2023, we could see a resurgence of fashion styles from the 1990s and early 2000s, such as baggy jeans, chunky sneakers, and crop tops. Nostalgia for past eras is a key driving force behind this trend.\n",
      "\n",
      "4. Gender-Neutral Fashion \n",
      "As society becomes more accepting and inclusive of the LGBTQ+ community, gender-neutral fashion is gaining traction. In 2023, we could see a blend of traditionally male and female clothing styles, as well as a rise in unisex fashion collections. This trend reflects a move towards breaking down gender stereotypes in fashion.\n",
      "\n",
      "5. Technological Integration \n",
      "As technology continues to advance and become a larger part of our daily lives, we could see it being integrated into fashion in 2023. This could include tech-infused clothing with unique features such as self-healing fabric, temperature control, and even built-in charging capabilities for devices.\n",
      "\n",
      "6. Activewear as Everyday Wear \n",
      "Athleisure has been popular for several years now, but in 2023, we could see it become even more mainstream. The line between athletic clothing and everyday wear will continue to blur, with comfortable, functional, and stylish clothing being worn in various settings.\n",
      "\n",
      "7. Inclusivity and Diversity \n",
      "The fashion industry has been criticized for its lack of inclusivity and diversity in the past. In 2023, this could change as designe\n"
     ]
    }
   ],
   "source": [
    "# print initial answer for the first question\n",
    "print(\"Finish Reason:\", initial_finishreason_q1)\n",
    "print(\"Initial Answer:\", initial_answer_q1)"
   ]
  },
  {
   "cell_type": "code",
   "execution_count": 25,
   "id": "bd7a093b",
   "metadata": {},
   "outputs": [
    {
     "name": "stdout",
     "output_type": "stream",
     "text": [
      "Finish Reason: stop\n",
      "Initial Answer: Shine for the Daytime, Red, Cobalt Blue, Sheer Clothing, 3D Floral Designs, Elevated Basics, Cargo Pants, and Maxi Skirts.\n"
     ]
    }
   ],
   "source": [
    "# print updated answer for contextualized prompt  for the first question\n",
    "custom_finishreason_q1, custom_answer_q1 = generate_custom_answer(\n",
    "    prompt_q1, max_tokens)\n",
    "print(\"Finish Reason:\", custom_finishreason_q1)\n",
    "print(\"Initial Answer:\", custom_answer_q1)"
   ]
  },
  {
   "cell_type": "markdown",
   "id": "6e86e37c",
   "metadata": {},
   "source": [
    "### Question 2"
   ]
  },
  {
   "cell_type": "code",
   "execution_count": 26,
   "id": "78c81e52",
   "metadata": {},
   "outputs": [
    {
     "name": "stdout",
     "output_type": "stream",
     "text": [
      "\n",
      "Question: \"What colors are trending in the year 2023?\"\n",
      "Answer:\n",
      "\n"
     ]
    }
   ],
   "source": [
    "# print second question\n",
    "print(prompt_q2)"
   ]
  },
  {
   "cell_type": "code",
   "execution_count": 27,
   "id": "6f646989",
   "metadata": {},
   "outputs": [
    {
     "name": "stdout",
     "output_type": "stream",
     "text": [
      "Finish Reason: stop\n",
      "Initial Answer: It is difficult to predict the exact colors that will be trending in the year 2023 as fashion and design trends are constantly evolving. However, according to experts, some colors that may be popular in 2023 include ecru, terra cotta, emerald green, burgundy, and shades of blue such as navy and aqua. Additionally, with a focus on sustainability and eco-friendliness, natural and earthy tones are expected to be popular in 2023, such as warm beige, terracotta, and olive green. Ultimately, color trends in 2023 will be influenced by a variety of factors, including cultural and social influences, advancements in technology, and overarching design trends.\n"
     ]
    }
   ],
   "source": [
    "# print initial answer for the second question\n",
    "print(\"Finish Reason:\", initial_finishreason_q2)\n",
    "print(\"Initial Answer:\", initial_answer_q2)"
   ]
  },
  {
   "cell_type": "code",
   "execution_count": 28,
   "id": "11c07a54",
   "metadata": {},
   "outputs": [
    {
     "name": "stdout",
     "output_type": "stream",
     "text": [
      "Finish Reason: stop\n",
      "Initial Answer: Cobalt blue, red, and green.\n"
     ]
    }
   ],
   "source": [
    "# print updated answer for contextualized prompt for the second question\n",
    "custom_finishreason_q2, custom_answer_q2 = generate_custom_answer(\n",
    "    prompt_q2, max_tokens)\n",
    "print(\"Finish Reason:\", custom_finishreason_q2)\n",
    "print(\"Initial Answer:\", custom_answer_q2)"
   ]
  }
 ],
 "metadata": {
  "kernelspec": {
   "display_name": "Python 3 (ipykernel)",
   "language": "python",
   "name": "python3"
  },
  "language_info": {
   "codemirror_mode": {
    "name": "ipython",
    "version": 3
   },
   "file_extension": ".py",
   "mimetype": "text/x-python",
   "name": "python",
   "nbconvert_exporter": "python",
   "pygments_lexer": "ipython3",
   "version": "3.11.7"
  }
 },
 "nbformat": 4,
 "nbformat_minor": 5
}
